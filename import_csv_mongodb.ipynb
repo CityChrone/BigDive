{
 "cells": [
  {
   "cell_type": "code",
   "execution_count": 2,
   "metadata": {},
   "outputs": [],
   "source": [
    "import pymongo as pym\n",
    "import json\n",
    "import pandas as pd\n",
    "import sys\n",
    "sys.path.insert(0, './lib_python/')"
   ]
  },
  {
   "cell_type": "code",
   "execution_count": 43,
   "metadata": {},
   "outputs": [],
   "source": [
    "def mongoimport(csv_path, db_name, coll_name, db_url='localhost', db_port=27017, remove = False, sep =\",\"):\n",
    "    \"\"\" Imports a csv file at path csv_name to a mongo colection\n",
    "    returns: count of the documants in the new collection\n",
    "    \"\"\"\n",
    "    client = pym.MongoClient(db_url, db_port)\n",
    "    db = client[db_name]\n",
    "    coll = db[coll_name]\n",
    "    data = pd.read_csv(csv_path, sep=sep)\n",
    "    data.rename(columns=lambda x: x.strip())\n",
    "    print(\"readed file.. converting to json\")\n",
    "    payload = json.loads(data.to_json(orient='records'))\n",
    "    print(\"done\")\n",
    "    \n",
    "    print(\"adding point origin and destination...\")\n",
    "    for i, p in enumerate(payload):\n",
    "        payload[i][\"origin_point\"] = {\"type\":\"Point\", \"coordinates\":[p[\"origin_lon\"],p[\"origin_lat \"]]}\n",
    "        payload[i][\"dest_point\"] = {\"type\":\"Point\", \"coordinates\":[p[\"dest_lon \"],p[\"dest_lat \"]]}\n",
    "    print(\"done\")\n",
    "    coll.create_index([(\"origin_point\",pym.GEOSPHERE)])\n",
    "    coll.create_index([(\"dest_point\",pym.GEOSPHERE)])\n",
    "    coll.create_index([(\"origin_point\",pym.GEOSPHERE), (\"dest_point\",pym.GEOSPHERE)])\n",
    "    if remove:\n",
    "        coll.delete_many({})\n",
    "        print(\"drop collections\")\n",
    "    print(\"inserting {0} elements in mongo db...\".format(len(payload)))\n",
    "    coll.insert_many(payload)\n",
    "    print(\"done inserted {0} in {1} collection with {2} existing elements\".format(\n",
    "        len(payload), coll_name, coll.count() - len(payload)))\n",
    "    return coll.count()"
   ]
  },
  {
   "cell_type": "code",
   "execution_count": 44,
   "metadata": {},
   "outputs": [
    {
     "name": "stdout",
     "output_type": "stream",
     "text": [
      "readed file.. converting to json\n",
      "done\n",
      "adding point origin and destination...\n",
      "done\n"
     ]
    },
    {
     "name": "stderr",
     "output_type": "stream",
     "text": [
      "/usr/local/lib/python3.6/site-packages/ipykernel_launcher.py:19: DeprecationWarning: ensure_index is deprecated. Use create_index instead.\n",
      "/usr/local/lib/python3.6/site-packages/ipykernel_launcher.py:20: DeprecationWarning: ensure_index is deprecated. Use create_index instead.\n",
      "/usr/local/lib/python3.6/site-packages/ipykernel_launcher.py:21: DeprecationWarning: ensure_index is deprecated. Use create_index instead.\n"
     ]
    },
    {
     "name": "stdout",
     "output_type": "stream",
     "text": [
      "drop collections\n",
      "inserting 157578 elements in mongo db...\n",
      "done inserted 157578 in bookings collection with 0 existing elements\n"
     ]
    },
    {
     "data": {
      "text/plain": [
       "157578"
      ]
     },
     "execution_count": 44,
     "metadata": {},
     "output_type": "execute_result"
    }
   ],
   "source": [
    "csv_path = './data/data/car2go/car2go_Milano_01.csv'\n",
    "db_name = \"bigDive_test\"\n",
    "coll_name = \"bookings\"\n",
    "db_url = 'localhost'\n",
    "db_port = 27017\n",
    "mongoimport(csv_path, db_name, coll_name, db_url, db_port, remove=True, sep=\";\")"
   ]
  },
  {
   "cell_type": "code",
   "execution_count": 47,
   "metadata": {},
   "outputs": [
    {
     "data": {
      "text/plain": [
       "{'_id': ObjectId('5b33afcf9e35ba12fdb81195'),\n",
       " 'car_name': '-',\n",
       " 'city': 'Milano',\n",
       " 'dest_lat ': 45.47628,\n",
       " 'dest_lon ': 9.16837,\n",
       " 'dest_point': {'coordinates': [9.16837, 45.47628], 'type': 'Point'},\n",
       " 'driving_distance': 2019,\n",
       " 'driving_duration': 397,\n",
       " 'final_address': 'Via Antonio Canova, 14, 20145 Milano MI',\n",
       " 'final_date': '2018-01-01 00:15:40',\n",
       " 'final_fuel': 100,\n",
       " 'final_time': 1514762140,\n",
       " 'id': 415950,\n",
       " 'init_address': 'Via Bullona, 16, 20154 Milano MI',\n",
       " 'init_date': '2018-01-01 00:04:12',\n",
       " 'init_fuel': 100,\n",
       " 'init_time': 1514761452,\n",
       " 'origin_lat ': 45.48653,\n",
       " 'origin_lon': 9.16155,\n",
       " 'origin_point': {'coordinates': [9.16155, 45.48653], 'type': 'Point'},\n",
       " 'plate': '531/FL427CG',\n",
       " 'pt_arrival ': 1514763324,\n",
       " 'pt_distance ': 1894,\n",
       " 'pt_duration ': 974,\n",
       " 'vendor': 'car2go',\n",
       " 'vin': 'WME4530421Y146718',\n",
       " 'walking_distance': 1470,\n",
       " 'walking_duration ': 1100}"
      ]
     },
     "execution_count": 47,
     "metadata": {},
     "output_type": "execute_result"
    }
   ],
   "source": [
    "client = pym.MongoClient(db_url, db_port)\n",
    "db = client[db_name]\n",
    "coll = db[coll_name]\n",
    "coll.find_one()"
   ]
  },
  {
   "cell_type": "code",
   "execution_count": null,
   "metadata": {},
   "outputs": [],
   "source": []
  }
 ],
 "metadata": {
  "kernelspec": {
   "display_name": "Python 3",
   "language": "python",
   "name": "python3"
  },
  "language_info": {
   "codemirror_mode": {
    "name": "ipython",
    "version": 3
   },
   "file_extension": ".py",
   "mimetype": "text/x-python",
   "name": "python",
   "nbconvert_exporter": "python",
   "pygments_lexer": "ipython3",
   "version": "3.6.5"
  }
 },
 "nbformat": 4,
 "nbformat_minor": 2
}
